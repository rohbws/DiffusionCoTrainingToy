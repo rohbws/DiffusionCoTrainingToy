{
 "cells": [
  {
   "cell_type": "code",
   "execution_count": 1,
   "metadata": {},
   "outputs": [],
   "source": [
    "from dataclasses import dataclass\n",
    "\n",
    "@dataclass\n",
    "class TrainingConfig:\n",
    "    image_size = 128  # the generated image resolution\n",
    "    train_batch_size = 16\n",
    "    eval_batch_size = 16  # how many images to sample during evaluation\n",
    "    num_epochs = 50\n",
    "    gradient_accumulation_steps = 1\n",
    "    learning_rate = 1e-4\n",
    "    lr_warmup_steps = 500\n",
    "    save_image_epochs = 10\n",
    "    save_model_epochs = 30\n",
    "    mixed_precision = \"fp16\"  # `no` for float32, `fp16` for automatic mixed precision\n",
    "    output_dir = \"ddpm-butterflies-128\"  # the model name locally and on the HF Hub\n",
    "\n",
    "    push_to_hub = True  # whether to upload the saved model to the HF Hub\n",
    "    hub_model_id = \"<your-username>/<my-awesome-model>\"  # the name of the repository to create on the HF Hub\n",
    "    hub_private_repo = None\n",
    "    overwrite_output_dir = True  # overwrite the old model when re-running the notebook\n",
    "    seed = 0\n",
    "\n",
    "\n",
    "config = TrainingConfig()"
   ]
  },
  {
   "cell_type": "code",
   "execution_count": 14,
   "metadata": {},
   "outputs": [],
   "source": [
    "import torch\n",
    "from torch.utils.data import Dataset, ConcatDataset\n",
    "import numpy as np\n",
    "\n",
    "class GaussianDataset(Dataset):\n",
    "    def __init__(self, num_samples, input_dim, cov, samples_per_obs):\n",
    "        self.num_samples = num_samples\n",
    "        self.input_dim = input_dim\n",
    "        self.cov = cov\n",
    "\n",
    "        self.o = []\n",
    "        self.a = []\n",
    "\n",
    "        # Generate input data (o)\n",
    "        for _ in range(num_samples):\n",
    "            obs = np.random.normal(size=(input_dim))\n",
    "\n",
    "            for _ in range(samples_per_obs):\n",
    "\n",
    "                # Generate output data (a) using the Gaussian distribution\n",
    "                act = np.random.multivariate_normal(mean=obs, cov=self.cov)\n",
    "\n",
    "                self.o.append(obs)\n",
    "                self.a.append(act)\n",
    "\n",
    "        print(f\"Generated {len(self.o)} samples\")\n",
    "\n",
    "\n",
    "    def __len__(self):\n",
    "        return len(self.o)\n",
    "\n",
    "    def __getitem__(self, idx):\n",
    "        o = torch.tensor(self.o[idx], dtype=torch.float32)\n",
    "        a = torch.tensor(self.a[idx], dtype=torch.float32)\n",
    "        return o, a"
   ]
  },
  {
   "cell_type": "code",
   "execution_count": 49,
   "metadata": {},
   "outputs": [
    {
     "name": "stdout",
     "output_type": "stream",
     "text": [
      "Generated 100 samples\n",
      "Generated 10000 samples\n",
      "torch.Size([32, 2]) torch.Size([32, 2])\n"
     ]
    }
   ],
   "source": [
    "# Set parameters\n",
    "real_samples = 10\n",
    "sim_saples = 1000\n",
    "action_dim = 2\n",
    "cov = np.array([[1.0, 0.5], [0.5, 1.0]])\n",
    "samples_per_obs = 10\n",
    "\n",
    "# Create dataset\n",
    "real_dataset = GaussianDataset(real_samples, action_dim, cov, samples_per_obs)\n",
    "sim_dataset = GaussianDataset(sim_saples, action_dim, cov, samples_per_obs)\n",
    "\n",
    "# Concatenate datasets\n",
    "dataset = ConcatDataset([real_dataset, sim_dataset])\n",
    "\n",
    "# Create data loader\n",
    "batch_size = 32\n",
    "data_loader = torch.utils.data.DataLoader(dataset, batch_size=batch_size, shuffle=True)\n",
    "\n",
    "for step, batch in enumerate(data_loader):\n",
    "    o, a = batch\n",
    "    print(o.shape, a.shape)\n",
    "    break"
   ]
  },
  {
   "cell_type": "code",
   "execution_count": 38,
   "metadata": {},
   "outputs": [
    {
     "name": "stdout",
     "output_type": "stream",
     "text": [
      "MLP(\n",
      "  (fc1): Linear(in_features=5, out_features=64, bias=True)\n",
      "  (fc2): Linear(in_features=64, out_features=64, bias=True)\n",
      "  (fc3): Linear(in_features=64, out_features=2, bias=True)\n",
      ")\n"
     ]
    }
   ],
   "source": [
    "import torch.nn as nn\n",
    "\n",
    "class MLP(nn.Module):\n",
    "    def __init__(self, action_dim, hidden_dim=64):\n",
    "        super(MLP, self).__init__()\n",
    "        input_dim = 2 * action_dim + 1\n",
    "\n",
    "        self.fc1 = nn.Linear(input_dim, hidden_dim)\n",
    "        self.fc2 = nn.Linear(hidden_dim, hidden_dim)\n",
    "        self.fc3 = nn.Linear(hidden_dim, action_dim)\n",
    "\n",
    "    def forward(self, o, a, timestep):\n",
    "        x = torch.cat([o, a, timestep], dim=-1)\n",
    "        x = torch.relu(self.fc1(x))\n",
    "        x = torch.relu(self.fc2(x))\n",
    "        x = self.fc3(x)\n",
    "        return x\n",
    "\n",
    "# Initialize the MLP with the desired action dimension\n",
    "model = MLP(action_dim)\n",
    "\n",
    "# Print the MLP architecture\n",
    "print(model)"
   ]
  },
  {
   "cell_type": "code",
   "execution_count": 43,
   "metadata": {},
   "outputs": [
    {
     "name": "stdout",
     "output_type": "stream",
     "text": [
      "Input shape: torch.Size([5])\n",
      "Output shape: torch.Size([2])\n"
     ]
    }
   ],
   "source": [
    "o, a = dataset[0]\n",
    "sample_inp = torch.cat([o, a, torch.tensor([0])])\n",
    "print(\"Input shape:\", sample_inp.shape)\n",
    "\n",
    "# Forward pass\n",
    "output = model(o, a, torch.tensor([0]))\n",
    "print(\"Output shape:\", output.shape)\n"
   ]
  },
  {
   "cell_type": "code",
   "execution_count": 47,
   "metadata": {},
   "outputs": [
    {
     "name": "stdout",
     "output_type": "stream",
     "text": [
      "Noisy image shape: torch.Size([2])\n",
      "Noisy image: tensor([-2.4389,  0.4533])\n"
     ]
    }
   ],
   "source": [
    "from diffusers import DDPMScheduler\n",
    "import torch.nn.functional as F\n",
    "\n",
    "noise_scheduler = DDPMScheduler(num_train_timesteps=1000)\n",
    "noise = torch.randn(a.shape)\n",
    "timesteps = torch.LongTensor([50])\n",
    "noisy_image = noise_scheduler.add_noise(a, noise, timesteps)\n",
    "\n",
    "observation = torch.tensor([0.0, 0.0])\n",
    "\n",
    "print(\"Noisy image shape:\", noisy_image.shape)\n",
    "print(\"Noisy image:\", noisy_image)\n",
    "\n",
    "\n",
    "noise_pred = model(noisy_image, observation, timesteps)\n",
    "loss = F.mse_loss(noise_pred, noise)"
   ]
  },
  {
   "cell_type": "code",
   "execution_count": 48,
   "metadata": {},
   "outputs": [],
   "source": [
    "from diffusers.optimization import get_cosine_schedule_with_warmup\n",
    "\n",
    "optimizer = torch.optim.AdamW(model.parameters(), lr=config.learning_rate)\n",
    "lr_scheduler = get_cosine_schedule_with_warmup(\n",
    "    optimizer=optimizer,\n",
    "    num_warmup_steps=config.lr_warmup_steps,\n",
    "    num_training_steps=(len(data_loader) * config.num_epochs),\n",
    ")"
   ]
  },
  {
   "cell_type": "code",
   "execution_count": null,
   "metadata": {},
   "outputs": [],
   "source": [
    "from accelerate import Accelerator\n",
    "from huggingface_hub import create_repo, upload_folder\n",
    "from tqdm.auto import tqdm\n",
    "from pathlib import Path\n",
    "import os\n",
    "from diffusers import DDPMPipeline\n",
    "from diffusers.utils import make_image_grid\n",
    "import os\n",
    "\n",
    "def train_loop(config, model, noise_scheduler, optimizer, train_dataloader, lr_scheduler):\n",
    "    # Initialize accelerator and tensorboard logging\n",
    "    accelerator = Accelerator(\n",
    "        mixed_precision=config.mixed_precision,\n",
    "        gradient_accumulation_steps=config.gradient_accumulation_steps,\n",
    "        log_with=\"tensorboard\",\n",
    "        project_dir=os.path.join(config.output_dir, \"logs\"),\n",
    "    )\n",
    "    if accelerator.is_main_process:\n",
    "        if config.output_dir is not None:\n",
    "            os.makedirs(config.output_dir, exist_ok=True)\n",
    "        if config.push_to_hub:\n",
    "            repo_id = create_repo(\n",
    "                repo_id=config.hub_model_id or Path(config.output_dir).name, exist_ok=True\n",
    "            ).repo_id\n",
    "        accelerator.init_trackers(\"train_example\")\n",
    "\n",
    "    # Prepare everything\n",
    "    # There is no specific order to remember, you just need to unpack the\n",
    "    # objects in the same order you gave them to the prepare method.\n",
    "    model, optimizer, train_dataloader, lr_scheduler = accelerator.prepare(\n",
    "        model, optimizer, train_dataloader, lr_scheduler\n",
    "    )\n",
    "\n",
    "    global_step = 0\n",
    "\n",
    "    # Now you train the model\n",
    "    for epoch in range(config.num_epochs):\n",
    "        progress_bar = tqdm(total=len(train_dataloader), disable=not accelerator.is_local_main_process)\n",
    "        progress_bar.set_description(f\"Epoch {epoch}\")\n",
    "\n",
    "        for step, batch in enumerate(train_dataloader):\n",
    "            # Unpack the batch\n",
    "            obs, act = batch\n",
    "            # Concatenate observation and action\n",
    "            inputs = torch.cat((obs, act), dim=1)\n",
    "            bs = inputs.shape[0]\n",
    "\n",
    "            # Sample noise to add to the actions\n",
    "            noise = torch.randn(act.shape, device=act.device)\n",
    "\n",
    "            # Sample a random timestep for each action\n",
    "            timesteps = torch.randint(\n",
    "                0, noise_scheduler.config.num_train_timesteps, (bs,), device=act.device,\n",
    "                dtype=torch.int64\n",
    "            )\n",
    "\n",
    "            # Add noise to the clean actions according to the noise magnitude at each timestep\n",
    "            # (this is the forward diffusion process)\n",
    "            noisy_actions = noise_scheduler.add_noise(act, noise, timesteps)\n",
    "\n",
    "            # Concatenate observation and noisy action\n",
    "            noisy_inputs = torch.cat((obs, noisy_actions), dim=1)\n",
    "\n",
    "            with accelerator.accumulate(model):\n",
    "                # Predict the noise residual\n",
    "                noise_pred = model(noisy_inputs, timesteps, return_dict=False)[0]\n",
    "                loss = F.mse_loss(noise_pred, noise)\n",
    "                accelerator.backward(loss)\n",
    "\n",
    "                if accelerator.sync_gradients:\n",
    "                    accelerator.clip_grad_norm_(model.parameters(), 1.0)\n",
    "                optimizer.step()\n",
    "                lr_scheduler.step()\n",
    "                optimizer.zero_grad()\n",
    "\n",
    "            progress_bar.update(1)\n",
    "            logs = {\"loss\": loss.detach().item(), \"lr\": lr_scheduler.get_last_lr()[0], \"step\": global_step}\n",
    "            progress_bar.set_postfix(**logs)\n",
    "            accelerator.log(logs, step=global_step)\n",
    "            global_step += 1"
   ]
  }
 ],
 "metadata": {
  "kernelspec": {
   "display_name": "diffusion_toy",
   "language": "python",
   "name": "python3"
  },
  "language_info": {
   "codemirror_mode": {
    "name": "ipython",
    "version": 3
   },
   "file_extension": ".py",
   "mimetype": "text/x-python",
   "name": "python",
   "nbconvert_exporter": "python",
   "pygments_lexer": "ipython3",
   "version": "3.12.3"
  }
 },
 "nbformat": 4,
 "nbformat_minor": 2
}
