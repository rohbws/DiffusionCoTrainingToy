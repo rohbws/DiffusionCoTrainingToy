{
 "cells": [
  {
   "cell_type": "code",
   "execution_count": 1,
   "metadata": {},
   "outputs": [],
   "source": [
    "from dataclasses import dataclass\n",
    "\n",
    "@dataclass\n",
    "class TrainingConfig:\n",
    "    image_size = 128  # the generated image resolution\n",
    "    train_batch_size = 32\n",
    "    eval_batch_size = 32  # how many images to sample during evaluation\n",
    "    num_epochs = 500\n",
    "    patience = 20  # early stopping patience\n",
    "    gradient_accumulation_steps = 1\n",
    "    learning_rate = 1e-4\n",
    "    lr_warmup_steps = 500\n",
    "    save_image_epochs = 10\n",
    "    save_model_epochs = 30\n",
    "    mixed_precision = \"fp16\"  # `no` for float32, `fp16` for automatic mixed precision\n",
    "    output_dir = \"ddpm-butterflies-128\"  # the model name locally and on the HF Hub\n",
    "\n",
    "\n",
    "\n",
    "config = TrainingConfig()"
   ]
  },
  {
   "cell_type": "code",
   "execution_count": 2,
   "metadata": {},
   "outputs": [],
   "source": [
    "import torch\n",
    "from torch.utils.data import Dataset, ConcatDataset\n",
    "import numpy as np\n",
    "\n",
    "class GaussianDataset(Dataset):\n",
    "    def __init__(self, num_samples, input_dim, cov, samples_per_obs):\n",
    "        self.num_samples = num_samples\n",
    "        self.input_dim = input_dim\n",
    "        self.cov = cov\n",
    "\n",
    "        self.o = []\n",
    "        self.a = []\n",
    "\n",
    "        # Generate input data (o)\n",
    "        for _ in range(num_samples):\n",
    "            obs = np.random.normal(size=(input_dim))\n",
    "\n",
    "            for _ in range(samples_per_obs):\n",
    "\n",
    "                # Generate output data (a) using the Gaussian distribution\n",
    "                act = np.random.multivariate_normal(mean=obs, cov=self.cov)\n",
    "\n",
    "                self.o.append(obs)\n",
    "                self.a.append(act)\n",
    "\n",
    "        print(f\"Generated {len(self.o)} samples\")\n",
    "\n",
    "\n",
    "    def __len__(self):\n",
    "        return len(self.o)\n",
    "    \n",
    "    def get_observations(self):\n",
    "        return self.o\n",
    "\n",
    "    def __getitem__(self, idx):\n",
    "        o = torch.tensor(self.o[idx], dtype=torch.float32)\n",
    "        a = torch.tensor(self.a[idx], dtype=torch.float32)\n",
    "        return o, a"
   ]
  },
  {
   "cell_type": "code",
   "execution_count": null,
   "metadata": {},
   "outputs": [
    {
     "name": "stdout",
     "output_type": "stream",
     "text": [
      "Generated 100 samples\n",
      "Generated 10000 samples\n",
      "torch.Size([32, 2]) torch.Size([32, 2])\n"
     ]
    }
   ],
   "source": [
    "# Set parameters\n",
    "real_samples = 100\n",
    "sim_saples = 10000\n",
    "action_dim = 2\n",
    "cov = np.array([[1.0, 0.5], [0.5, 1.0]])\n",
    "sim_cov = cov + np.random.normal(0, 0.1, cov.shape)\n",
    "samples_per_obs = 10\n",
    "\n",
    "# Create dataset\n",
    "real_dataset = GaussianDataset(real_samples, action_dim, cov, samples_per_obs)\n",
    "\n",
    "sim_dataset = GaussianDataset(sim_saples, action_dim, sim_cov, samples_per_obs)\n",
    "\n",
    "# Concatenate datasets\n",
    "dataset = ConcatDataset([real_dataset, sim_dataset])\n",
    "\n",
    "# Create data loader\n",
    "batch_size = 32\n",
    "data_loader = torch.utils.data.DataLoader(dataset, batch_size=batch_size, shuffle=True)\n",
    "\n",
    "for step, batch in enumerate(data_loader):\n",
    "    o, a = batch\n",
    "    print(o.shape, a.shape)\n",
    "    break\n",
    "\n",
    "# Construct validation dataset\n"
   ]
  },
  {
   "cell_type": "code",
   "execution_count": 4,
   "metadata": {},
   "outputs": [
    {
     "name": "stdout",
     "output_type": "stream",
     "text": [
      "MLP(\n",
      "  (fc1): Linear(in_features=5, out_features=64, bias=True)\n",
      "  (fc2): Linear(in_features=64, out_features=64, bias=True)\n",
      "  (fc3): Linear(in_features=64, out_features=2, bias=True)\n",
      ")\n"
     ]
    }
   ],
   "source": [
    "import torch.nn as nn\n",
    "\n",
    "class MLP(nn.Module):\n",
    "    def __init__(self, action_dim, hidden_dim=64):\n",
    "        super(MLP, self).__init__()\n",
    "        input_dim = 2 * action_dim + 1\n",
    "\n",
    "        self.fc1 = nn.Linear(input_dim, hidden_dim)\n",
    "        self.fc2 = nn.Linear(hidden_dim, hidden_dim)\n",
    "        self.fc3 = nn.Linear(hidden_dim, action_dim)\n",
    "\n",
    "    def forward(self, o, a, timestep):\n",
    "        # Add a new dimension to timestep to match the batch dimension of o and a\n",
    "        timestep = timestep.unsqueeze(-1)  # (32) -> (32, 1)\n",
    "        \n",
    "        # Concatenate o, a, and timestep along the last dimension\n",
    "        x = torch.cat([o, a, timestep], dim=-1)  # (32, 2), (32, 2), (32, 1) -> (32, 5)\n",
    "        \n",
    "        x = torch.relu(self.fc1(x))\n",
    "        x = torch.relu(self.fc2(x))\n",
    "        x = self.fc3(x)\n",
    "        return x\n",
    "\n",
    "# Initialize the MLP with the desired action dimension\n",
    "model = MLP(action_dim)\n",
    "\n",
    "# Print the MLP architecture\n",
    "print(model)"
   ]
  },
  {
   "cell_type": "code",
   "execution_count": 8,
   "metadata": {},
   "outputs": [
    {
     "name": "stdout",
     "output_type": "stream",
     "text": [
      "Input shape: torch.Size([5])\n"
     ]
    }
   ],
   "source": [
    "o, a = dataset[0]\n",
    "sample_inp = torch.cat([o, a, torch.tensor([0])])\n",
    "print(\"Input shape:\", sample_inp.shape)\n",
    "\n",
    "# Forward pass\n",
    "#output = model(o, a, torch.tensor([0]))\n",
    "#print(\"Output shape:\", output.shape)\n"
   ]
  },
  {
   "cell_type": "code",
   "execution_count": 10,
   "metadata": {},
   "outputs": [
    {
     "name": "stdout",
     "output_type": "stream",
     "text": [
      "Noisy image shape: torch.Size([2])\n",
      "Noisy image: tensor([-0.6609,  1.9509])\n"
     ]
    }
   ],
   "source": [
    "from diffusers import DDPMScheduler\n",
    "import torch.nn.functional as F\n",
    "\n",
    "noise_scheduler = DDPMScheduler(num_train_timesteps=1000)\n",
    "noise = torch.randn(a.shape)\n",
    "timesteps = torch.LongTensor([50])\n",
    "noisy_image = noise_scheduler.add_noise(a, noise, timesteps)\n",
    "\n",
    "observation = torch.tensor([0.0, 0.0])\n",
    "\n",
    "print(\"Noisy image shape:\", noisy_image.shape)\n",
    "print(\"Noisy image:\", noisy_image)\n",
    "\n",
    "\n",
    "#noise_pred = model(noisy_image, observation, timesteps)\n",
    "#loss = F.mse_loss(noise_pred, noise)"
   ]
  },
  {
   "cell_type": "code",
   "execution_count": 11,
   "metadata": {},
   "outputs": [],
   "source": [
    "from diffusers.optimization import get_cosine_schedule_with_warmup\n",
    "\n",
    "optimizer = torch.optim.AdamW(model.parameters(), lr=config.learning_rate)\n",
    "lr_scheduler = get_cosine_schedule_with_warmup(\n",
    "    optimizer=optimizer,\n",
    "    num_warmup_steps=config.lr_warmup_steps,\n",
    "    num_training_steps=(len(data_loader) * config.num_epochs),\n",
    ")"
   ]
  },
  {
   "cell_type": "code",
   "execution_count": 6,
   "metadata": {},
   "outputs": [
    {
     "name": "stderr",
     "output_type": "stream",
     "text": [
      "/home/rohanb/DiffusionToy/diffusion_toy/lib/python3.12/site-packages/tqdm/auto.py:21: TqdmWarning: IProgress not found. Please update jupyter and ipywidgets. See https://ipywidgets.readthedocs.io/en/stable/user_install.html\n",
      "  from .autonotebook import tqdm as notebook_tqdm\n",
      "\u001b[34m\u001b[1mwandb\u001b[0m: Currently logged in as: \u001b[33mrohanb27\u001b[0m (\u001b[33mrohanb27-csail\u001b[0m). Use \u001b[1m`wandb login --relogin`\u001b[0m to force relogin\n",
      "\u001b[34m\u001b[1mwandb\u001b[0m: Using wandb-core as the SDK backend.  Please refer to https://wandb.me/wandb-core for more information.\n"
     ]
    },
    {
     "data": {
      "text/html": [
       "Tracking run with wandb version 0.19.4"
      ],
      "text/plain": [
       "<IPython.core.display.HTML object>"
      ]
     },
     "metadata": {},
     "output_type": "display_data"
    },
    {
     "data": {
      "text/html": [
       "Run data is saved locally in <code>/home/rohanb/DiffusionToy/wandb/run-20250123_152321-45sjnrkd</code>"
      ],
      "text/plain": [
       "<IPython.core.display.HTML object>"
      ]
     },
     "metadata": {},
     "output_type": "display_data"
    },
    {
     "data": {
      "text/html": [
       "Syncing run <strong><a href='https://wandb.ai/rohanb27-csail/diffusion-toy/runs/45sjnrkd' target=\"_blank\">gallant-smoke-3</a></strong> to <a href='https://wandb.ai/rohanb27-csail/diffusion-toy' target=\"_blank\">Weights & Biases</a> (<a href='https://wandb.me/developer-guide' target=\"_blank\">docs</a>)<br>"
      ],
      "text/plain": [
       "<IPython.core.display.HTML object>"
      ]
     },
     "metadata": {},
     "output_type": "display_data"
    },
    {
     "data": {
      "text/html": [
       " View project at <a href='https://wandb.ai/rohanb27-csail/diffusion-toy' target=\"_blank\">https://wandb.ai/rohanb27-csail/diffusion-toy</a>"
      ],
      "text/plain": [
       "<IPython.core.display.HTML object>"
      ]
     },
     "metadata": {},
     "output_type": "display_data"
    },
    {
     "data": {
      "text/html": [
       " View run at <a href='https://wandb.ai/rohanb27-csail/diffusion-toy/runs/45sjnrkd' target=\"_blank\">https://wandb.ai/rohanb27-csail/diffusion-toy/runs/45sjnrkd</a>"
      ],
      "text/plain": [
       "<IPython.core.display.HTML object>"
      ]
     },
     "metadata": {},
     "output_type": "display_data"
    }
   ],
   "source": [
    "from accelerate import Accelerator\n",
    "from huggingface_hub import create_repo, upload_folder\n",
    "from tqdm.auto import tqdm\n",
    "from pathlib import Path\n",
    "import os\n",
    "from diffusers import DDPMPipeline\n",
    "from diffusers.utils import make_image_grid\n",
    "import os\n",
    "import wandb\n",
    "\n",
    "\n",
    "wandb.init(project=\"diffusion-toy\", entity=\"rohanb27-csail\")\n",
    "\n",
    "def train_loop(config, model, noise_scheduler, optimizer, train_dataloader, lr_scheduler):\n",
    "    # Initialize accelerator and tensorboard logging\n",
    "    accelerator = Accelerator(\n",
    "        mixed_precision=config.mixed_precision,\n",
    "        gradient_accumulation_steps=config.gradient_accumulation_steps,\n",
    "        log_with=\"wandb\",\n",
    "        project_dir=os.path.join(config.output_dir, \"logs\"),\n",
    "    )\n",
    "    if accelerator.is_main_process:\n",
    "        if config.output_dir is not None:\n",
    "            os.makedirs(config.output_dir, exist_ok=True)\n",
    "\n",
    "    # Prepare everything\n",
    "    # There is no specific order to remember, you just need to unpack the\n",
    "    # objects in the same order you gave them to the prepare method.\n",
    "    model, optimizer, train_dataloader, lr_scheduler = accelerator.prepare(\n",
    "        model, optimizer, train_dataloader, lr_scheduler\n",
    "    )\n",
    "\n",
    "    global_step = 0\n",
    "\n",
    "    epochs_since_improvement = 0\n",
    "\n",
    "    # Now you train the model\n",
    "    for epoch in range(config.num_epochs):\n",
    "        progress_bar = tqdm(total=len(train_dataloader), disable=not accelerator.is_local_main_process)\n",
    "        progress_bar.set_description(f\"Epoch {epoch}\")\n",
    "\n",
    "        for step, batch in enumerate(train_dataloader):\n",
    "            # Unpack the batch\n",
    "            obs, act = batch\n",
    "            # Concatenate observation and action\n",
    "            inputs = torch.cat((obs, act), dim=1)\n",
    "            bs = inputs.shape[0]\n",
    "\n",
    "            # Sample noise to add to the actions\n",
    "            noise = torch.randn(act.shape, device=act.device)\n",
    "\n",
    "            # Sample a random timestep for each action\n",
    "            timesteps = torch.randint(\n",
    "                0, noise_scheduler.config.num_train_timesteps, (bs,), device=act.device,\n",
    "                dtype=torch.int64\n",
    "            )\n",
    "\n",
    "            # Add noise to the clean actions according to the noise magnitude at each timestep\n",
    "            # (this is the forward diffusion process)\n",
    "            noisy_actions = noise_scheduler.add_noise(act, noise, timesteps)\n",
    "\n",
    "            \n",
    "            with accelerator.accumulate(model):\n",
    "                # Predict the noise residual\n",
    "                noise_pred = model(obs, noisy_actions, timesteps)[0]\n",
    "                loss = F.mse_loss(noise_pred, noise)\n",
    "                accelerator.backward(loss)\n",
    "\n",
    "                if accelerator.sync_gradients:\n",
    "                    accelerator.clip_grad_norm_(model.parameters(), 1.0)\n",
    "                optimizer.step()\n",
    "                lr_scheduler.step()\n",
    "                optimizer.zero_grad()\n",
    "\n",
    "            progress_bar.update(1)\n",
    "            logs = {\"loss\": loss.detach().item(), \"lr\": lr_scheduler.get_last_lr()[0], \"step\": global_step}\n",
    "            progress_bar.set_postfix(**logs)\n",
    "            accelerator.log(logs, step=global_step)\n",
    "            global_step += 1\n",
    "\n",
    "                # After each epoch you optionally sample some demo images with evaluate() and save the model\n",
    "        if accelerator.is_main_process:\n",
    "            pipeline = DDPMPipeline(unet=accelerator.unwrap_model(model), scheduler=noise_scheduler)\n",
    "\n",
    "            if (epoch + 1) % config.save_model_epochs == 0 or epoch == config.num_epochs - 1:\n",
    "                pipeline.save_pretrained(config.output_dir)"
   ]
  },
  {
   "cell_type": "code",
   "execution_count": 12,
   "metadata": {},
   "outputs": [
    {
     "name": "stdout",
     "output_type": "stream",
     "text": [
      "Launching training on CPU.\n"
     ]
    },
    {
     "name": "stderr",
     "output_type": "stream",
     "text": [
      "Epoch 0:   0%|          | 0/316 [00:00<?, ?it/s]/tmp/ipykernel_47048/2673571491.py:64: UserWarning: Using a target size (torch.Size([32, 2])) that is different to the input size (torch.Size([2])). This will likely lead to incorrect results due to broadcasting. Please ensure they have the same size.\n",
      "  loss = F.mse_loss(noise_pred, noise)\n",
      "Epoch 0:   1%|          | 2/316 [00:00<00:02, 115.89it/s, loss=241, lr=4e-7, step=1]"
     ]
    },
    {
     "name": "stderr",
     "output_type": "stream",
     "text": [
      "Epoch 0: 100%|█████████▉| 315/316 [00:01<00:00, 274.52it/s, loss=1.24, lr=6.3e-5, step=314]  /tmp/ipykernel_47048/2673571491.py:64: UserWarning: Using a target size (torch.Size([20, 2])) that is different to the input size (torch.Size([2])). This will likely lead to incorrect results due to broadcasting. Please ensure they have the same size.\n",
      "  loss = F.mse_loss(noise_pred, noise)\n",
      "Epoch 0: 100%|██████████| 316/316 [00:01<00:00, 260.50it/s, loss=0.903, lr=6.32e-5, step=315]\n",
      "Epoch 1: 100%|██████████| 316/316 [00:01<00:00, 194.85it/s, loss=1.12, lr=0.0001, step=631]\n",
      "Epoch 2: 100%|██████████| 316/316 [00:01<00:00, 282.63it/s, loss=2.02, lr=9.98e-5, step=947] \n",
      "Epoch 3: 100%|██████████| 316/316 [00:01<00:00, 200.38it/s, loss=1.13, lr=9.94e-5, step=1263]\n",
      "Epoch 4: 100%|██████████| 316/316 [00:01<00:00, 257.61it/s, loss=1.05, lr=9.88e-5, step=1579] \n",
      "Epoch 5: 100%|██████████| 316/316 [00:01<00:00, 198.45it/s, loss=1.25, lr=9.8e-5, step=1895]\n",
      "Epoch 6: 100%|██████████| 316/316 [00:01<00:00, 265.16it/s, loss=0.988, lr=9.69e-5, step=2211]\n",
      "Epoch 7: 100%|██████████| 316/316 [00:01<00:00, 198.69it/s, loss=1.08, lr=9.57e-5, step=2527]\n",
      "Epoch 8: 100%|██████████| 316/316 [00:01<00:00, 248.73it/s, loss=0.867, lr=9.43e-5, step=2843]\n",
      "Epoch 9: 100%|██████████| 316/316 [00:01<00:00, 195.56it/s, loss=1.27, lr=9.27e-5, step=3159]\n",
      "Epoch 10: 100%|██████████| 316/316 [00:01<00:00, 263.90it/s, loss=0.938, lr=9.1e-5, step=3475] \n",
      "Epoch 11: 100%|██████████| 316/316 [00:01<00:00, 194.02it/s, loss=0.998, lr=8.9e-5, step=3791]\n",
      "Epoch 12: 100%|██████████| 316/316 [00:01<00:00, 255.91it/s, loss=0.714, lr=8.69e-5, step=4107]\n",
      "Epoch 13: 100%|██████████| 316/316 [00:01<00:00, 199.47it/s, loss=1.1, lr=8.46e-5, step=4423]\n",
      "Epoch 14: 100%|██████████| 316/316 [00:01<00:00, 243.74it/s, loss=1.36, lr=8.22e-5, step=4739] \n",
      "Epoch 15: 100%|██████████| 316/316 [00:01<00:00, 195.63it/s, loss=0.662, lr=7.97e-5, step=5055]\n",
      "Epoch 16: 100%|██████████| 316/316 [00:01<00:00, 263.79it/s, loss=1.18, lr=7.7e-5, step=5371]  \n",
      "Epoch 17: 100%|██████████| 316/316 [00:01<00:00, 195.45it/s, loss=1.53, lr=7.42e-5, step=5687]\n",
      "Epoch 18: 100%|██████████| 316/316 [00:01<00:00, 276.31it/s, loss=1.13, lr=7.13e-5, step=6003] \n",
      "Epoch 19: 100%|██████████| 316/316 [00:01<00:00, 189.96it/s, loss=0.703, lr=6.83e-5, step=6319]\n",
      "Epoch 20: 100%|██████████| 316/316 [00:01<00:00, 251.38it/s, loss=1.03, lr=6.53e-5, step=6635] \n",
      "Epoch 21: 100%|██████████| 316/316 [00:01<00:00, 193.57it/s, loss=1.07, lr=6.22e-5, step=6951]\n",
      "Epoch 22: 100%|██████████| 316/316 [00:01<00:00, 266.23it/s, loss=0.515, lr=5.9e-5, step=7267] \n",
      "Epoch 23: 100%|██████████| 316/316 [00:01<00:00, 181.81it/s, loss=1.13, lr=5.58e-5, step=7583]\n",
      "Epoch 24: 100%|██████████| 316/316 [00:01<00:00, 260.80it/s, loss=1.44, lr=5.26e-5, step=7899] \n",
      "Epoch 25: 100%|██████████| 316/316 [00:01<00:00, 195.74it/s, loss=1.58, lr=4.93e-5, step=8215]\n",
      "Epoch 26: 100%|██████████| 316/316 [00:01<00:00, 242.80it/s, loss=0.953, lr=4.61e-5, step=8531]\n",
      "Epoch 27: 100%|██████████| 316/316 [00:01<00:00, 190.44it/s, loss=0.788, lr=4.29e-5, step=8847]\n",
      "Epoch 28: 100%|██████████| 316/316 [00:01<00:00, 255.46it/s, loss=0.74, lr=3.97e-5, step=9163] \n",
      "self.unet=MLP(\n",
      "  (fc1): Linear(in_features=5, out_features=64, bias=True)\n",
      "  (fc2): Linear(in_features=64, out_features=64, bias=True)\n",
      "  (fc3): Linear(in_features=64, out_features=2, bias=True)\n",
      ") of type <class '__main__.MLP'> cannot be saved.\n",
      "Epoch 29: 100%|██████████| 316/316 [00:01<00:00, 191.82it/s, loss=1.26, lr=3.65e-5, step=9479]\n",
      "Epoch 30: 100%|██████████| 316/316 [00:01<00:00, 245.49it/s, loss=0.771, lr=3.34e-5, step=9795]\n",
      "Epoch 31: 100%|██████████| 316/316 [00:01<00:00, 200.37it/s, loss=1.08, lr=3.04e-5, step=10111]\n",
      "Epoch 32: 100%|██████████| 316/316 [00:01<00:00, 255.42it/s, loss=0.574, lr=2.75e-5, step=10427]\n",
      "Epoch 33: 100%|██████████| 316/316 [00:01<00:00, 189.10it/s, loss=1.09, lr=2.46e-5, step=10743]\n",
      "Epoch 34: 100%|██████████| 316/316 [00:01<00:00, 255.65it/s, loss=0.996, lr=2.19e-5, step=11059]\n",
      "Epoch 35: 100%|██████████| 316/316 [00:01<00:00, 196.22it/s, loss=0.995, lr=1.92e-5, step=11375]\n",
      "Epoch 36: 100%|██████████| 316/316 [00:01<00:00, 259.85it/s, loss=0.943, lr=1.68e-5, step=11691]\n",
      "Epoch 37: 100%|██████████| 316/316 [00:01<00:00, 197.70it/s, loss=1.21, lr=1.44e-5, step=12007]\n",
      "Epoch 38: 100%|██████████| 316/316 [00:01<00:00, 252.89it/s, loss=0.893, lr=1.22e-5, step=12323]\n",
      "Epoch 39: 100%|██████████| 316/316 [00:01<00:00, 197.14it/s, loss=0.836, lr=1.02e-5, step=12639]\n",
      "Epoch 40: 100%|██████████| 316/316 [00:01<00:00, 252.95it/s, loss=0.918, lr=8.29e-6, step=12955]\n",
      "Epoch 41: 100%|██████████| 316/316 [00:01<00:00, 191.60it/s, loss=1.01, lr=6.59e-6, step=13271]\n",
      "Epoch 42: 100%|██████████| 316/316 [00:01<00:00, 254.04it/s, loss=0.718, lr=5.07e-6, step=13587]\n",
      "Epoch 43: 100%|██████████| 316/316 [00:01<00:00, 192.46it/s, loss=0.833, lr=3.74e-6, step=13903]\n",
      "Epoch 44: 100%|██████████| 316/316 [00:01<00:00, 254.36it/s, loss=0.963, lr=2.61e-6, step=14219]\n",
      "Epoch 45: 100%|██████████| 316/316 [00:01<00:00, 189.45it/s, loss=0.927, lr=1.67e-6, step=14535]\n",
      "Epoch 46: 100%|██████████| 316/316 [00:01<00:00, 252.39it/s, loss=0.756, lr=9.44e-7, step=14851]\n",
      "Epoch 47: 100%|██████████| 316/316 [00:01<00:00, 188.71it/s, loss=0.695, lr=4.2e-7, step=15167]\n",
      "Epoch 48: 100%|██████████| 316/316 [00:01<00:00, 266.36it/s, loss=0.784, lr=1.05e-7, step=15483]\n",
      "self.unet=MLP(\n",
      "  (fc1): Linear(in_features=5, out_features=64, bias=True)\n",
      "  (fc2): Linear(in_features=64, out_features=64, bias=True)\n",
      "  (fc3): Linear(in_features=64, out_features=2, bias=True)\n",
      ") of type <class '__main__.MLP'> cannot be saved.\n",
      "Epoch 49: 100%|██████████| 316/316 [00:01<00:00, 195.47it/s, loss=0.898, lr=0, step=15799]\n"
     ]
    }
   ],
   "source": [
    "from accelerate import notebook_launcher\n",
    "args = (config, model, noise_scheduler, optimizer, data_loader, lr_scheduler)\n",
    "notebook_launcher(train_loop, args, num_processes=1)"
   ]
  }
 ],
 "metadata": {
  "kernelspec": {
   "display_name": "diffusion_toy",
   "language": "python",
   "name": "python3"
  },
  "language_info": {
   "codemirror_mode": {
    "name": "ipython",
    "version": 3
   },
   "file_extension": ".py",
   "mimetype": "text/x-python",
   "name": "python",
   "nbconvert_exporter": "python",
   "pygments_lexer": "ipython3",
   "version": "3.10.12"
  }
 },
 "nbformat": 4,
 "nbformat_minor": 2
}
