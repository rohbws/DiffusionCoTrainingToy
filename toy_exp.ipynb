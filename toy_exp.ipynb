{
 "cells": [
  {
   "cell_type": "code",
   "execution_count": 1,
   "metadata": {},
   "outputs": [],
   "source": [
    "from dataclasses import dataclass\n",
    "\n",
    "@dataclass\n",
    "class TrainingConfig:\n",
    "    image_size = 128  # the generated image resolution\n",
    "    train_batch_size = 16\n",
    "    eval_batch_size = 16  # how many images to sample during evaluation\n",
    "    num_epochs = 50\n",
    "    gradient_accumulation_steps = 1\n",
    "    learning_rate = 1e-4\n",
    "    lr_warmup_steps = 500\n",
    "    save_image_epochs = 10\n",
    "    save_model_epochs = 30\n",
    "    mixed_precision = \"fp16\"  # `no` for float32, `fp16` for automatic mixed precision\n",
    "    output_dir = \"ddpm-butterflies-128\"  # the model name locally and on the HF Hub\n",
    "\n",
    "\n",
    "\n",
    "config = TrainingConfig()"
   ]
  },
  {
   "cell_type": "code",
   "execution_count": 2,
   "metadata": {},
   "outputs": [],
   "source": [
    "import torch\n",
    "from torch.utils.data import Dataset, ConcatDataset\n",
    "import numpy as np\n",
    "\n",
    "class GaussianDataset(Dataset):\n",
    "    def __init__(self, num_samples, input_dim, cov, samples_per_obs):\n",
    "        self.num_samples = num_samples\n",
    "        self.input_dim = input_dim\n",
    "        self.cov = cov\n",
    "\n",
    "        self.o = []\n",
    "        self.a = []\n",
    "\n",
    "        # Generate input data (o)\n",
    "        for _ in range(num_samples):\n",
    "            obs = np.random.normal(size=(input_dim))\n",
    "\n",
    "            for _ in range(samples_per_obs):\n",
    "\n",
    "                # Generate output data (a) using the Gaussian distribution\n",
    "                act = np.random.multivariate_normal(mean=obs, cov=self.cov)\n",
    "\n",
    "                self.o.append(obs)\n",
    "                self.a.append(act)\n",
    "\n",
    "        print(f\"Generated {len(self.o)} samples\")\n",
    "\n",
    "\n",
    "    def __len__(self):\n",
    "        return len(self.o)\n",
    "\n",
    "    def __getitem__(self, idx):\n",
    "        o = torch.tensor(self.o[idx], dtype=torch.float32)\n",
    "        a = torch.tensor(self.a[idx], dtype=torch.float32)\n",
    "        return o, a"
   ]
  },
  {
   "cell_type": "code",
   "execution_count": 3,
   "metadata": {},
   "outputs": [
    {
     "name": "stdout",
     "output_type": "stream",
     "text": [
      "Generated 100 samples\n",
      "Generated 10000 samples\n",
      "torch.Size([32, 2]) torch.Size([32, 2])\n"
     ]
    }
   ],
   "source": [
    "# Set parameters\n",
    "real_samples = 10\n",
    "sim_saples = 1000\n",
    "action_dim = 2\n",
    "cov = np.array([[1.0, 0.5], [0.5, 1.0]])\n",
    "samples_per_obs = 10\n",
    "\n",
    "# Create dataset\n",
    "real_dataset = GaussianDataset(real_samples, action_dim, cov, samples_per_obs)\n",
    "sim_dataset = GaussianDataset(sim_saples, action_dim, cov, samples_per_obs)\n",
    "\n",
    "# Concatenate datasets\n",
    "dataset = ConcatDataset([real_dataset, sim_dataset])\n",
    "\n",
    "# Create data loader\n",
    "batch_size = 32\n",
    "data_loader = torch.utils.data.DataLoader(dataset, batch_size=batch_size, shuffle=True)\n",
    "\n",
    "for step, batch in enumerate(data_loader):\n",
    "    o, a = batch\n",
    "    print(o.shape, a.shape)\n",
    "    break"
   ]
  },
  {
   "cell_type": "code",
   "execution_count": 4,
   "metadata": {},
   "outputs": [
    {
     "name": "stdout",
     "output_type": "stream",
     "text": [
      "MLP(\n",
      "  (fc1): Linear(in_features=5, out_features=64, bias=True)\n",
      "  (fc2): Linear(in_features=64, out_features=64, bias=True)\n",
      "  (fc3): Linear(in_features=64, out_features=2, bias=True)\n",
      ")\n"
     ]
    }
   ],
   "source": [
    "import torch.nn as nn\n",
    "\n",
    "class MLP(nn.Module):\n",
    "    def __init__(self, action_dim, hidden_dim=64):\n",
    "        super(MLP, self).__init__()\n",
    "        input_dim = 2 * action_dim + 1\n",
    "\n",
    "        self.fc1 = nn.Linear(input_dim, hidden_dim)\n",
    "        self.fc2 = nn.Linear(hidden_dim, hidden_dim)\n",
    "        self.fc3 = nn.Linear(hidden_dim, action_dim)\n",
    "\n",
    "    def forward(self, o, a, timestep):\n",
    "        # Add a new dimension to timestep to match the batch dimension of o and a\n",
    "        timestep = timestep.unsqueeze(-1)  # (32) -> (32, 1)\n",
    "        \n",
    "        # Concatenate o, a, and timestep along the last dimension\n",
    "        x = torch.cat([o, a, timestep], dim=-1)  # (32, 2), (32, 2), (32, 1) -> (32, 5)\n",
    "        \n",
    "        x = torch.relu(self.fc1(x))\n",
    "        x = torch.relu(self.fc2(x))\n",
    "        x = self.fc3(x)\n",
    "        return x\n",
    "\n",
    "# Initialize the MLP with the desired action dimension\n",
    "model = MLP(action_dim)\n",
    "\n",
    "# Print the MLP architecture\n",
    "print(model)"
   ]
  },
  {
   "cell_type": "code",
   "execution_count": 5,
   "metadata": {},
   "outputs": [
    {
     "name": "stdout",
     "output_type": "stream",
     "text": [
      "Input shape: torch.Size([5])\n"
     ]
    },
    {
     "ename": "RuntimeError",
     "evalue": "Tensors must have same number of dimensions: got 1 and 2",
     "output_type": "error",
     "traceback": [
      "\u001b[0;31m---------------------------------------------------------------------------\u001b[0m",
      "\u001b[0;31mRuntimeError\u001b[0m                              Traceback (most recent call last)",
      "Cell \u001b[0;32mIn[5], line 6\u001b[0m\n\u001b[1;32m      3\u001b[0m \u001b[38;5;28mprint\u001b[39m(\u001b[38;5;124m\"\u001b[39m\u001b[38;5;124mInput shape:\u001b[39m\u001b[38;5;124m\"\u001b[39m, sample_inp\u001b[38;5;241m.\u001b[39mshape)\n\u001b[1;32m      5\u001b[0m \u001b[38;5;66;03m# Forward pass\u001b[39;00m\n\u001b[0;32m----> 6\u001b[0m output \u001b[38;5;241m=\u001b[39m \u001b[43mmodel\u001b[49m\u001b[43m(\u001b[49m\u001b[43mo\u001b[49m\u001b[43m,\u001b[49m\u001b[43m \u001b[49m\u001b[43ma\u001b[49m\u001b[43m,\u001b[49m\u001b[43m \u001b[49m\u001b[43mtorch\u001b[49m\u001b[38;5;241;43m.\u001b[39;49m\u001b[43mtensor\u001b[49m\u001b[43m(\u001b[49m\u001b[43m[\u001b[49m\u001b[38;5;241;43m0\u001b[39;49m\u001b[43m]\u001b[49m\u001b[43m)\u001b[49m\u001b[43m)\u001b[49m\n\u001b[1;32m      7\u001b[0m \u001b[38;5;28mprint\u001b[39m(\u001b[38;5;124m\"\u001b[39m\u001b[38;5;124mOutput shape:\u001b[39m\u001b[38;5;124m\"\u001b[39m, output\u001b[38;5;241m.\u001b[39mshape)\n",
      "File \u001b[0;32m~/DiffusionCoTrainingToy/diffusion_toy/lib/python3.10/site-packages/torch/nn/modules/module.py:1736\u001b[0m, in \u001b[0;36mModule._wrapped_call_impl\u001b[0;34m(self, *args, **kwargs)\u001b[0m\n\u001b[1;32m   1734\u001b[0m     \u001b[38;5;28;01mreturn\u001b[39;00m \u001b[38;5;28mself\u001b[39m\u001b[38;5;241m.\u001b[39m_compiled_call_impl(\u001b[38;5;241m*\u001b[39margs, \u001b[38;5;241m*\u001b[39m\u001b[38;5;241m*\u001b[39mkwargs)  \u001b[38;5;66;03m# type: ignore[misc]\u001b[39;00m\n\u001b[1;32m   1735\u001b[0m \u001b[38;5;28;01melse\u001b[39;00m:\n\u001b[0;32m-> 1736\u001b[0m     \u001b[38;5;28;01mreturn\u001b[39;00m \u001b[38;5;28;43mself\u001b[39;49m\u001b[38;5;241;43m.\u001b[39;49m\u001b[43m_call_impl\u001b[49m\u001b[43m(\u001b[49m\u001b[38;5;241;43m*\u001b[39;49m\u001b[43margs\u001b[49m\u001b[43m,\u001b[49m\u001b[43m \u001b[49m\u001b[38;5;241;43m*\u001b[39;49m\u001b[38;5;241;43m*\u001b[39;49m\u001b[43mkwargs\u001b[49m\u001b[43m)\u001b[49m\n",
      "File \u001b[0;32m~/DiffusionCoTrainingToy/diffusion_toy/lib/python3.10/site-packages/torch/nn/modules/module.py:1747\u001b[0m, in \u001b[0;36mModule._call_impl\u001b[0;34m(self, *args, **kwargs)\u001b[0m\n\u001b[1;32m   1742\u001b[0m \u001b[38;5;66;03m# If we don't have any hooks, we want to skip the rest of the logic in\u001b[39;00m\n\u001b[1;32m   1743\u001b[0m \u001b[38;5;66;03m# this function, and just call forward.\u001b[39;00m\n\u001b[1;32m   1744\u001b[0m \u001b[38;5;28;01mif\u001b[39;00m \u001b[38;5;129;01mnot\u001b[39;00m (\u001b[38;5;28mself\u001b[39m\u001b[38;5;241m.\u001b[39m_backward_hooks \u001b[38;5;129;01mor\u001b[39;00m \u001b[38;5;28mself\u001b[39m\u001b[38;5;241m.\u001b[39m_backward_pre_hooks \u001b[38;5;129;01mor\u001b[39;00m \u001b[38;5;28mself\u001b[39m\u001b[38;5;241m.\u001b[39m_forward_hooks \u001b[38;5;129;01mor\u001b[39;00m \u001b[38;5;28mself\u001b[39m\u001b[38;5;241m.\u001b[39m_forward_pre_hooks\n\u001b[1;32m   1745\u001b[0m         \u001b[38;5;129;01mor\u001b[39;00m _global_backward_pre_hooks \u001b[38;5;129;01mor\u001b[39;00m _global_backward_hooks\n\u001b[1;32m   1746\u001b[0m         \u001b[38;5;129;01mor\u001b[39;00m _global_forward_hooks \u001b[38;5;129;01mor\u001b[39;00m _global_forward_pre_hooks):\n\u001b[0;32m-> 1747\u001b[0m     \u001b[38;5;28;01mreturn\u001b[39;00m \u001b[43mforward_call\u001b[49m\u001b[43m(\u001b[49m\u001b[38;5;241;43m*\u001b[39;49m\u001b[43margs\u001b[49m\u001b[43m,\u001b[49m\u001b[43m \u001b[49m\u001b[38;5;241;43m*\u001b[39;49m\u001b[38;5;241;43m*\u001b[39;49m\u001b[43mkwargs\u001b[49m\u001b[43m)\u001b[49m\n\u001b[1;32m   1749\u001b[0m result \u001b[38;5;241m=\u001b[39m \u001b[38;5;28;01mNone\u001b[39;00m\n\u001b[1;32m   1750\u001b[0m called_always_called_hooks \u001b[38;5;241m=\u001b[39m \u001b[38;5;28mset\u001b[39m()\n",
      "Cell \u001b[0;32mIn[4], line 17\u001b[0m, in \u001b[0;36mMLP.forward\u001b[0;34m(self, o, a, timestep)\u001b[0m\n\u001b[1;32m     14\u001b[0m timestep \u001b[38;5;241m=\u001b[39m timestep\u001b[38;5;241m.\u001b[39munsqueeze(\u001b[38;5;241m-\u001b[39m\u001b[38;5;241m1\u001b[39m)  \u001b[38;5;66;03m# (32) -> (32, 1)\u001b[39;00m\n\u001b[1;32m     16\u001b[0m \u001b[38;5;66;03m# Concatenate o, a, and timestep along the last dimension\u001b[39;00m\n\u001b[0;32m---> 17\u001b[0m x \u001b[38;5;241m=\u001b[39m \u001b[43mtorch\u001b[49m\u001b[38;5;241;43m.\u001b[39;49m\u001b[43mcat\u001b[49m\u001b[43m(\u001b[49m\u001b[43m[\u001b[49m\u001b[43mo\u001b[49m\u001b[43m,\u001b[49m\u001b[43m \u001b[49m\u001b[43ma\u001b[49m\u001b[43m,\u001b[49m\u001b[43m \u001b[49m\u001b[43mtimestep\u001b[49m\u001b[43m]\u001b[49m\u001b[43m,\u001b[49m\u001b[43m \u001b[49m\u001b[43mdim\u001b[49m\u001b[38;5;241;43m=\u001b[39;49m\u001b[38;5;241;43m-\u001b[39;49m\u001b[38;5;241;43m1\u001b[39;49m\u001b[43m)\u001b[49m  \u001b[38;5;66;03m# (32, 2), (32, 2), (32, 1) -> (32, 5)\u001b[39;00m\n\u001b[1;32m     19\u001b[0m x \u001b[38;5;241m=\u001b[39m torch\u001b[38;5;241m.\u001b[39mrelu(\u001b[38;5;28mself\u001b[39m\u001b[38;5;241m.\u001b[39mfc1(x))\n\u001b[1;32m     20\u001b[0m x \u001b[38;5;241m=\u001b[39m torch\u001b[38;5;241m.\u001b[39mrelu(\u001b[38;5;28mself\u001b[39m\u001b[38;5;241m.\u001b[39mfc2(x))\n",
      "\u001b[0;31mRuntimeError\u001b[0m: Tensors must have same number of dimensions: got 1 and 2"
     ]
    }
   ],
   "source": [
    "o, a = dataset[0]\n",
    "sample_inp = torch.cat([o, a, torch.tensor([0])])\n",
    "print(\"Input shape:\", sample_inp.shape)\n",
    "\n",
    "# Forward pass\n",
    "output = model(o, a, torch.tensor([0]))\n",
    "print(\"Output shape:\", output.shape)\n"
   ]
  },
  {
   "cell_type": "code",
   "execution_count": 6,
   "metadata": {},
   "outputs": [
    {
     "name": "stderr",
     "output_type": "stream",
     "text": [
      "/home/rbosworth/DiffusionCoTrainingToy/diffusion_toy/lib/python3.10/site-packages/tqdm/auto.py:21: TqdmWarning: IProgress not found. Please update jupyter and ipywidgets. See https://ipywidgets.readthedocs.io/en/stable/user_install.html\n",
      "  from .autonotebook import tqdm as notebook_tqdm\n"
     ]
    },
    {
     "name": "stdout",
     "output_type": "stream",
     "text": [
      "Noisy image shape: torch.Size([2])\n",
      "Noisy image: tensor([ 1.0334, -0.2850])\n"
     ]
    },
    {
     "ename": "RuntimeError",
     "evalue": "Tensors must have same number of dimensions: got 1 and 2",
     "output_type": "error",
     "traceback": [
      "\u001b[0;31m---------------------------------------------------------------------------\u001b[0m",
      "\u001b[0;31mRuntimeError\u001b[0m                              Traceback (most recent call last)",
      "Cell \u001b[0;32mIn[6], line 15\u001b[0m\n\u001b[1;32m     11\u001b[0m \u001b[38;5;28mprint\u001b[39m(\u001b[38;5;124m\"\u001b[39m\u001b[38;5;124mNoisy image shape:\u001b[39m\u001b[38;5;124m\"\u001b[39m, noisy_image\u001b[38;5;241m.\u001b[39mshape)\n\u001b[1;32m     12\u001b[0m \u001b[38;5;28mprint\u001b[39m(\u001b[38;5;124m\"\u001b[39m\u001b[38;5;124mNoisy image:\u001b[39m\u001b[38;5;124m\"\u001b[39m, noisy_image)\n\u001b[0;32m---> 15\u001b[0m noise_pred \u001b[38;5;241m=\u001b[39m \u001b[43mmodel\u001b[49m\u001b[43m(\u001b[49m\u001b[43mnoisy_image\u001b[49m\u001b[43m,\u001b[49m\u001b[43m \u001b[49m\u001b[43mobservation\u001b[49m\u001b[43m,\u001b[49m\u001b[43m \u001b[49m\u001b[43mtimesteps\u001b[49m\u001b[43m)\u001b[49m\n\u001b[1;32m     16\u001b[0m loss \u001b[38;5;241m=\u001b[39m F\u001b[38;5;241m.\u001b[39mmse_loss(noise_pred, noise)\n",
      "File \u001b[0;32m~/DiffusionCoTrainingToy/diffusion_toy/lib/python3.10/site-packages/torch/nn/modules/module.py:1736\u001b[0m, in \u001b[0;36mModule._wrapped_call_impl\u001b[0;34m(self, *args, **kwargs)\u001b[0m\n\u001b[1;32m   1734\u001b[0m     \u001b[38;5;28;01mreturn\u001b[39;00m \u001b[38;5;28mself\u001b[39m\u001b[38;5;241m.\u001b[39m_compiled_call_impl(\u001b[38;5;241m*\u001b[39margs, \u001b[38;5;241m*\u001b[39m\u001b[38;5;241m*\u001b[39mkwargs)  \u001b[38;5;66;03m# type: ignore[misc]\u001b[39;00m\n\u001b[1;32m   1735\u001b[0m \u001b[38;5;28;01melse\u001b[39;00m:\n\u001b[0;32m-> 1736\u001b[0m     \u001b[38;5;28;01mreturn\u001b[39;00m \u001b[38;5;28;43mself\u001b[39;49m\u001b[38;5;241;43m.\u001b[39;49m\u001b[43m_call_impl\u001b[49m\u001b[43m(\u001b[49m\u001b[38;5;241;43m*\u001b[39;49m\u001b[43margs\u001b[49m\u001b[43m,\u001b[49m\u001b[43m \u001b[49m\u001b[38;5;241;43m*\u001b[39;49m\u001b[38;5;241;43m*\u001b[39;49m\u001b[43mkwargs\u001b[49m\u001b[43m)\u001b[49m\n",
      "File \u001b[0;32m~/DiffusionCoTrainingToy/diffusion_toy/lib/python3.10/site-packages/torch/nn/modules/module.py:1747\u001b[0m, in \u001b[0;36mModule._call_impl\u001b[0;34m(self, *args, **kwargs)\u001b[0m\n\u001b[1;32m   1742\u001b[0m \u001b[38;5;66;03m# If we don't have any hooks, we want to skip the rest of the logic in\u001b[39;00m\n\u001b[1;32m   1743\u001b[0m \u001b[38;5;66;03m# this function, and just call forward.\u001b[39;00m\n\u001b[1;32m   1744\u001b[0m \u001b[38;5;28;01mif\u001b[39;00m \u001b[38;5;129;01mnot\u001b[39;00m (\u001b[38;5;28mself\u001b[39m\u001b[38;5;241m.\u001b[39m_backward_hooks \u001b[38;5;129;01mor\u001b[39;00m \u001b[38;5;28mself\u001b[39m\u001b[38;5;241m.\u001b[39m_backward_pre_hooks \u001b[38;5;129;01mor\u001b[39;00m \u001b[38;5;28mself\u001b[39m\u001b[38;5;241m.\u001b[39m_forward_hooks \u001b[38;5;129;01mor\u001b[39;00m \u001b[38;5;28mself\u001b[39m\u001b[38;5;241m.\u001b[39m_forward_pre_hooks\n\u001b[1;32m   1745\u001b[0m         \u001b[38;5;129;01mor\u001b[39;00m _global_backward_pre_hooks \u001b[38;5;129;01mor\u001b[39;00m _global_backward_hooks\n\u001b[1;32m   1746\u001b[0m         \u001b[38;5;129;01mor\u001b[39;00m _global_forward_hooks \u001b[38;5;129;01mor\u001b[39;00m _global_forward_pre_hooks):\n\u001b[0;32m-> 1747\u001b[0m     \u001b[38;5;28;01mreturn\u001b[39;00m \u001b[43mforward_call\u001b[49m\u001b[43m(\u001b[49m\u001b[38;5;241;43m*\u001b[39;49m\u001b[43margs\u001b[49m\u001b[43m,\u001b[49m\u001b[43m \u001b[49m\u001b[38;5;241;43m*\u001b[39;49m\u001b[38;5;241;43m*\u001b[39;49m\u001b[43mkwargs\u001b[49m\u001b[43m)\u001b[49m\n\u001b[1;32m   1749\u001b[0m result \u001b[38;5;241m=\u001b[39m \u001b[38;5;28;01mNone\u001b[39;00m\n\u001b[1;32m   1750\u001b[0m called_always_called_hooks \u001b[38;5;241m=\u001b[39m \u001b[38;5;28mset\u001b[39m()\n",
      "Cell \u001b[0;32mIn[4], line 17\u001b[0m, in \u001b[0;36mMLP.forward\u001b[0;34m(self, o, a, timestep)\u001b[0m\n\u001b[1;32m     14\u001b[0m timestep \u001b[38;5;241m=\u001b[39m timestep\u001b[38;5;241m.\u001b[39munsqueeze(\u001b[38;5;241m-\u001b[39m\u001b[38;5;241m1\u001b[39m)  \u001b[38;5;66;03m# (32) -> (32, 1)\u001b[39;00m\n\u001b[1;32m     16\u001b[0m \u001b[38;5;66;03m# Concatenate o, a, and timestep along the last dimension\u001b[39;00m\n\u001b[0;32m---> 17\u001b[0m x \u001b[38;5;241m=\u001b[39m \u001b[43mtorch\u001b[49m\u001b[38;5;241;43m.\u001b[39;49m\u001b[43mcat\u001b[49m\u001b[43m(\u001b[49m\u001b[43m[\u001b[49m\u001b[43mo\u001b[49m\u001b[43m,\u001b[49m\u001b[43m \u001b[49m\u001b[43ma\u001b[49m\u001b[43m,\u001b[49m\u001b[43m \u001b[49m\u001b[43mtimestep\u001b[49m\u001b[43m]\u001b[49m\u001b[43m,\u001b[49m\u001b[43m \u001b[49m\u001b[43mdim\u001b[49m\u001b[38;5;241;43m=\u001b[39;49m\u001b[38;5;241;43m-\u001b[39;49m\u001b[38;5;241;43m1\u001b[39;49m\u001b[43m)\u001b[49m  \u001b[38;5;66;03m# (32, 2), (32, 2), (32, 1) -> (32, 5)\u001b[39;00m\n\u001b[1;32m     19\u001b[0m x \u001b[38;5;241m=\u001b[39m torch\u001b[38;5;241m.\u001b[39mrelu(\u001b[38;5;28mself\u001b[39m\u001b[38;5;241m.\u001b[39mfc1(x))\n\u001b[1;32m     20\u001b[0m x \u001b[38;5;241m=\u001b[39m torch\u001b[38;5;241m.\u001b[39mrelu(\u001b[38;5;28mself\u001b[39m\u001b[38;5;241m.\u001b[39mfc2(x))\n",
      "\u001b[0;31mRuntimeError\u001b[0m: Tensors must have same number of dimensions: got 1 and 2"
     ]
    }
   ],
   "source": [
    "from diffusers import DDPMScheduler\n",
    "import torch.nn.functional as F\n",
    "\n",
    "noise_scheduler = DDPMScheduler(num_train_timesteps=1000)\n",
    "noise = torch.randn(a.shape)\n",
    "timesteps = torch.LongTensor([50])\n",
    "noisy_image = noise_scheduler.add_noise(a, noise, timesteps)\n",
    "\n",
    "observation = torch.tensor([0.0, 0.0])\n",
    "\n",
    "print(\"Noisy image shape:\", noisy_image.shape)\n",
    "print(\"Noisy image:\", noisy_image)\n",
    "\n",
    "\n",
    "noise_pred = model(noisy_image, observation, timesteps)\n",
    "loss = F.mse_loss(noise_pred, noise)"
   ]
  },
  {
   "cell_type": "code",
   "execution_count": 7,
   "metadata": {},
   "outputs": [],
   "source": [
    "from diffusers.optimization import get_cosine_schedule_with_warmup\n",
    "\n",
    "optimizer = torch.optim.AdamW(model.parameters(), lr=config.learning_rate)\n",
    "lr_scheduler = get_cosine_schedule_with_warmup(\n",
    "    optimizer=optimizer,\n",
    "    num_warmup_steps=config.lr_warmup_steps,\n",
    "    num_training_steps=(len(data_loader) * config.num_epochs),\n",
    ")"
   ]
  },
  {
   "cell_type": "code",
   "execution_count": 8,
   "metadata": {},
   "outputs": [],
   "source": [
    "from accelerate import Accelerator\n",
    "from huggingface_hub import create_repo, upload_folder\n",
    "from tqdm.auto import tqdm\n",
    "from pathlib import Path\n",
    "import os\n",
    "from diffusers import DDPMPipeline\n",
    "from diffusers.utils import make_image_grid\n",
    "import os\n",
    "\n",
    "def train_loop(config, model, noise_scheduler, optimizer, train_dataloader, lr_scheduler):\n",
    "    # Initialize accelerator and tensorboard logging\n",
    "    accelerator = Accelerator(\n",
    "        mixed_precision=config.mixed_precision,\n",
    "        gradient_accumulation_steps=config.gradient_accumulation_steps,\n",
    "        log_with=\"wandb\",\n",
    "        project_dir=os.path.join(config.output_dir, \"logs\"),\n",
    "    )\n",
    "    if accelerator.is_main_process:\n",
    "        if config.output_dir is not None:\n",
    "            os.makedirs(config.output_dir, exist_ok=True)\n",
    "\n",
    "    # Prepare everything\n",
    "    # There is no specific order to remember, you just need to unpack the\n",
    "    # objects in the same order you gave them to the prepare method.\n",
    "    model, optimizer, train_dataloader, lr_scheduler = accelerator.prepare(\n",
    "        model, optimizer, train_dataloader, lr_scheduler\n",
    "    )\n",
    "\n",
    "    global_step = 0\n",
    "\n",
    "    # Now you train the model\n",
    "    for epoch in range(config.num_epochs):\n",
    "        progress_bar = tqdm(total=len(train_dataloader), disable=not accelerator.is_local_main_process)\n",
    "        progress_bar.set_description(f\"Epoch {epoch}\")\n",
    "\n",
    "        for step, batch in enumerate(train_dataloader):\n",
    "            # Unpack the batch\n",
    "            obs, act = batch\n",
    "            # Concatenate observation and action\n",
    "            inputs = torch.cat((obs, act), dim=1)\n",
    "            bs = inputs.shape[0]\n",
    "\n",
    "            # Sample noise to add to the actions\n",
    "            noise = torch.randn(act.shape, device=act.device)\n",
    "\n",
    "            # Sample a random timestep for each action\n",
    "            timesteps = torch.randint(\n",
    "                0, noise_scheduler.config.num_train_timesteps, (bs,), device=act.device,\n",
    "                dtype=torch.int64\n",
    "            )\n",
    "\n",
    "            # Add noise to the clean actions according to the noise magnitude at each timestep\n",
    "            # (this is the forward diffusion process)\n",
    "            noisy_actions = noise_scheduler.add_noise(act, noise, timesteps)\n",
    "\n",
    "            \n",
    "            with accelerator.accumulate(model):\n",
    "                # Predict the noise residual\n",
    "                noise_pred = model(obs, noisy_actions, timesteps)[0]\n",
    "                loss = F.mse_loss(noise_pred, noise)\n",
    "                accelerator.backward(loss)\n",
    "\n",
    "                if accelerator.sync_gradients:\n",
    "                    accelerator.clip_grad_norm_(model.parameters(), 1.0)\n",
    "                optimizer.step()\n",
    "                lr_scheduler.step()\n",
    "                optimizer.zero_grad()\n",
    "\n",
    "            progress_bar.update(1)\n",
    "            logs = {\"loss\": loss.detach().item(), \"lr\": lr_scheduler.get_last_lr()[0], \"step\": global_step}\n",
    "            progress_bar.set_postfix(**logs)\n",
    "            accelerator.log(logs, step=global_step)\n",
    "            global_step += 1"
   ]
  },
  {
   "cell_type": "code",
   "execution_count": 10,
   "metadata": {},
   "outputs": [
    {
     "name": "stdout",
     "output_type": "stream",
     "text": [
      "Launching training on one GPU.\n"
     ]
    },
    {
     "name": "stderr",
     "output_type": "stream",
     "text": [
      "Epoch 0:   0%|          | 0/316 [00:00<?, ?it/s]"
     ]
    },
    {
     "name": "stderr",
     "output_type": "stream",
     "text": [
      "/tmp/ipykernel_161088/1892810281.py:60: UserWarning: Using a target size (torch.Size([32, 2])) that is different to the input size (torch.Size([2])). This will likely lead to incorrect results due to broadcasting. Please ensure they have the same size.\n",
      "  loss = F.mse_loss(noise_pred, noise)\n",
      "Epoch 0: 100%|█████████▉| 315/316 [00:01<00:00, 256.33it/s, loss=1.05, lr=9.11e-8, step=314] /tmp/ipykernel_161088/1892810281.py:60: UserWarning: Using a target size (torch.Size([20, 2])) that is different to the input size (torch.Size([2])). This will likely lead to incorrect results due to broadcasting. Please ensure they have the same size.\n",
      "  loss = F.mse_loss(noise_pred, noise)\n",
      "Epoch 0: 100%|██████████| 316/316 [00:01<00:00, 254.48it/s, loss=0.995, lr=9.17e-8, step=315]\n",
      "Epoch 1: 100%|██████████| 316/316 [00:01<00:00, 203.62it/s, loss=0.752, lr=3.93e-7, step=631]\n",
      "Epoch 2: 100%|██████████| 316/316 [00:01<00:00, 255.13it/s, loss=0.732, lr=9.03e-7, step=947]\n",
      "Epoch 3: 100%|██████████| 316/316 [00:01<00:00, 199.48it/s, loss=1.09, lr=1.62e-6, step=1263]\n",
      "Epoch 4: 100%|██████████| 316/316 [00:01<00:00, 237.36it/s, loss=0.724, lr=2.54e-6, step=1579]\n",
      "Epoch 5: 100%|██████████| 316/316 [00:01<00:00, 174.03it/s, loss=0.942, lr=3.66e-6, step=1895]\n",
      "Epoch 6: 100%|██████████| 316/316 [00:01<00:00, 247.17it/s, loss=1.12, lr=4.97e-6, step=2211] \n",
      "Epoch 7: 100%|██████████| 316/316 [00:01<00:00, 198.82it/s, loss=1.16, lr=6.47e-6, step=2527]\n",
      "Epoch 8: 100%|██████████| 316/316 [00:01<00:00, 250.87it/s, loss=0.899, lr=8.16e-6, step=2843]\n",
      "Epoch 9: 100%|██████████| 316/316 [00:01<00:00, 201.40it/s, loss=1.49, lr=1e-5, step=3159]\n",
      "Epoch 10: 100%|██████████| 316/316 [00:01<00:00, 245.86it/s, loss=1.08, lr=1.2e-5, step=3475]  \n",
      "Epoch 11: 100%|██████████| 316/316 [00:01<00:00, 201.62it/s, loss=0.871, lr=1.42e-5, step=3791]\n",
      "Epoch 12: 100%|██████████| 316/316 [00:01<00:00, 249.44it/s, loss=0.68, lr=1.66e-5, step=4107] \n",
      "Epoch 13: 100%|██████████| 316/316 [00:01<00:00, 204.80it/s, loss=1.94, lr=1.91e-5, step=4423]\n",
      "Epoch 14: 100%|██████████| 316/316 [00:01<00:00, 247.82it/s, loss=1.28, lr=2.17e-5, step=4739] \n",
      "Epoch 15: 100%|██████████| 316/316 [00:01<00:00, 202.57it/s, loss=0.876, lr=2.44e-5, step=5055]\n",
      "Epoch 16: 100%|██████████| 316/316 [00:01<00:00, 250.54it/s, loss=1.2, lr=2.72e-5, step=5371]  \n",
      "Epoch 17: 100%|██████████| 316/316 [00:01<00:00, 206.13it/s, loss=0.954, lr=3.02e-5, step=5687]\n",
      "Epoch 18: 100%|██████████| 316/316 [00:01<00:00, 251.43it/s, loss=0.613, lr=3.32e-5, step=6003]\n",
      "Epoch 19: 100%|██████████| 316/316 [00:01<00:00, 201.65it/s, loss=0.796, lr=3.63e-5, step=6319]\n",
      "Epoch 20: 100%|██████████| 316/316 [00:01<00:00, 248.22it/s, loss=0.872, lr=3.94e-5, step=6635]\n",
      "Epoch 21: 100%|██████████| 316/316 [00:01<00:00, 199.54it/s, loss=0.756, lr=4.26e-5, step=6951]\n",
      "Epoch 22: 100%|██████████| 316/316 [00:01<00:00, 248.04it/s, loss=0.982, lr=4.58e-5, step=7267]\n",
      "Epoch 23: 100%|██████████| 316/316 [00:01<00:00, 203.46it/s, loss=1.5, lr=4.91e-5, step=7583]\n",
      "Epoch 24: 100%|██████████| 316/316 [00:01<00:00, 247.94it/s, loss=0.778, lr=5.23e-5, step=7899]\n",
      "Epoch 25: 100%|██████████| 316/316 [00:01<00:00, 196.92it/s, loss=0.821, lr=5.55e-5, step=8215]\n",
      "Epoch 26: 100%|██████████| 316/316 [00:01<00:00, 251.65it/s, loss=0.936, lr=5.88e-5, step=8531]\n",
      "Epoch 27: 100%|██████████| 316/316 [00:01<00:00, 196.74it/s, loss=1.23, lr=6.19e-5, step=8847]\n",
      "Epoch 28: 100%|██████████| 316/316 [00:01<00:00, 251.62it/s, loss=1.08, lr=6.5e-5, step=9163]  \n",
      "Epoch 29: 100%|██████████| 316/316 [00:01<00:00, 198.72it/s, loss=1.16, lr=6.81e-5, step=9479]\n",
      "Epoch 30: 100%|██████████| 316/316 [00:01<00:00, 246.22it/s, loss=1.26, lr=7.11e-5, step=9795] \n",
      "Epoch 31: 100%|██████████| 316/316 [00:01<00:00, 197.21it/s, loss=1.18, lr=7.4e-5, step=10111]\n",
      "Epoch 32: 100%|██████████| 316/316 [00:01<00:00, 246.26it/s, loss=1.02, lr=7.68e-5, step=10427] \n",
      "Epoch 33: 100%|██████████| 316/316 [00:01<00:00, 196.45it/s, loss=0.999, lr=7.95e-5, step=10743]\n",
      "Epoch 34: 100%|██████████| 316/316 [00:01<00:00, 247.31it/s, loss=1.45, lr=8.2e-5, step=11059]  \n",
      "Epoch 35: 100%|██████████| 316/316 [00:01<00:00, 198.88it/s, loss=1.18, lr=8.44e-5, step=11375]\n",
      "Epoch 36: 100%|██████████| 316/316 [00:01<00:00, 241.00it/s, loss=1.58, lr=8.67e-5, step=11691] \n",
      "Epoch 37: 100%|██████████| 316/316 [00:01<00:00, 195.51it/s, loss=1.22, lr=8.88e-5, step=12007]\n",
      "Epoch 38: 100%|██████████| 316/316 [00:01<00:00, 247.00it/s, loss=1.46, lr=9.08e-5, step=12323] \n",
      "Epoch 39: 100%|██████████| 316/316 [00:01<00:00, 204.42it/s, loss=0.798, lr=9.26e-5, step=12639]\n",
      "Epoch 40: 100%|██████████| 316/316 [00:01<00:00, 244.18it/s, loss=1.56, lr=9.42e-5, step=12955] \n",
      "Epoch 41: 100%|██████████| 316/316 [00:01<00:00, 201.56it/s, loss=1.02, lr=9.56e-5, step=13271]\n",
      "Epoch 42: 100%|██████████| 316/316 [00:01<00:00, 249.74it/s, loss=0.835, lr=9.68e-5, step=13587]\n",
      "Epoch 43: 100%|██████████| 316/316 [00:01<00:00, 198.89it/s, loss=0.984, lr=9.79e-5, step=13903]\n",
      "Epoch 44: 100%|██████████| 316/316 [00:01<00:00, 249.77it/s, loss=1.57, lr=9.87e-5, step=14219] \n",
      "Epoch 45: 100%|██████████| 316/316 [00:01<00:00, 193.40it/s, loss=0.962, lr=9.93e-5, step=14535]\n",
      "Epoch 46: 100%|██████████| 316/316 [00:01<00:00, 238.56it/s, loss=1.22, lr=9.98e-5, step=14851] \n",
      "Epoch 47: 100%|██████████| 316/316 [00:01<00:00, 193.37it/s, loss=1.46, lr=0.0001, step=15167]\n",
      "Epoch 48: 100%|██████████| 316/316 [00:01<00:00, 242.37it/s, loss=1.11, lr=0.0001, step=15483] \n",
      "Epoch 49: 100%|██████████| 316/316 [00:01<00:00, 191.54it/s, loss=0.979, lr=9.98e-5, step=15799]\n"
     ]
    }
   ],
   "source": [
    "from accelerate import notebook_launcher\n",
    "args = (config, model, noise_scheduler, optimizer, data_loader, lr_scheduler)\n",
    "notebook_launcher(train_loop, args, num_processes=1)"
   ]
  }
 ],
 "metadata": {
  "kernelspec": {
   "display_name": "diffusion_toy",
   "language": "python",
   "name": "python3"
  },
  "language_info": {
   "codemirror_mode": {
    "name": "ipython",
    "version": 3
   },
   "file_extension": ".py",
   "mimetype": "text/x-python",
   "name": "python",
   "nbconvert_exporter": "python",
   "pygments_lexer": "ipython3",
   "version": "3.10.12"
  }
 },
 "nbformat": 4,
 "nbformat_minor": 2
}
